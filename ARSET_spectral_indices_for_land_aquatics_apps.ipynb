{
 "cells": [
  {
   "cell_type": "markdown",
   "metadata": {},
   "source": [
    "# ARSET - Spectral Indices for Land and Aquatic Applications\n",
    "\n",
    "[Educational resource with source code links.](https://appliedsciences.nasa.gov/get-involved/training/english/arset-spectral-indices-land-and-aquatic-applications)\n",
    "\n",
    "##### Citation\n",
    "```\n",
    "(2023). ARSET - Spectral Indices for Land and Aquatic Applications. NASA Applied Remote Sensing Training Program (ARSET). http://appliedsciences.nasa.gov/get-involved/training/english/arset-spectral-indices-land-and-aquatic-applications\n",
    "```\n",
    "Author: Sofia Ingersoll\n",
    "\n",
    "Date: 6 Jan 2025"
   ]
  },
  {
   "cell_type": "markdown",
   "metadata": {},
   "source": [
    "#### Overview\n",
    "\n",
    "\n",
    "Utlizing data from Landsat 9 OLI-2, Sentinel-2 MSI and Harmonized Landsat Sentinel-2 (HLS), we will perform indices calculations for relevant study areas under the correct circumstances. Topics of covering pre-calculated index products, upcoming data products available, and use cases from recent Earth Action projects (such as NASA DEVELOP) are covered in the workshop videos to highlight how spectral indices can provide essential information about land and aquatic environments."
   ]
  },
  {
   "cell_type": "markdown",
   "metadata": {},
   "source": [
    "### Part 1\n",
    "\n",
    "`Normalized Difference Vegetation Index (NDVI)`"
   ]
  },
  {
   "cell_type": "code",
   "execution_count": null,
   "metadata": {},
   "outputs": [],
   "source": []
  },
  {
   "cell_type": "markdown",
   "metadata": {},
   "source": [
    "#### Part 2\n",
    "\n",
    "##### Aquatic Ecosystems\n",
    "\n",
    "`Normalized Difference Chlorophyll Index (NDCI)`\n",
    "\n",
    "`Normalized Difference Aquatic Vegetation Index (NDAVI)`\n",
    "\n",
    "`Floating Algal Index (FAI)`\n",
    "\n",
    "`Normalized Difference Turbidity Index (NDTI) for aquatic applications.`"
   ]
  },
  {
   "cell_type": "markdown",
   "metadata": {},
   "source": []
  },
  {
   "cell_type": "code",
   "execution_count": null,
   "metadata": {},
   "outputs": [],
   "source": []
  },
  {
   "cell_type": "markdown",
   "metadata": {},
   "source": [
    "#### Part 3\n",
    "##### Land-based indices \n",
    "`Enhanced Vegetation Index (EVI)`\n",
    "\n",
    "`Soil-Adjusted Vegetation Index (SAVI)`\n",
    "\n",
    "`Normalized Burn Ratio (NBR)`"
   ]
  },
  {
   "cell_type": "code",
   "execution_count": null,
   "metadata": {},
   "outputs": [],
   "source": []
  }
 ],
 "metadata": {
  "language_info": {
   "name": "python"
  }
 },
 "nbformat": 4,
 "nbformat_minor": 2
}
